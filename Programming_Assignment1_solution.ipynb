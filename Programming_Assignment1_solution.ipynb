{
 "cells": [
  {
   "cell_type": "markdown",
   "id": "19f975b7-de3c-4fd5-bef9-8caecbfbd57c",
   "metadata": {},
   "source": [
    "1. Write a Python program to print \"Hello Python\"?"
   ]
  },
  {
   "cell_type": "code",
   "execution_count": 1,
   "id": "5b2546e7-904a-456d-8fed-56c0cf6d080a",
   "metadata": {},
   "outputs": [
    {
     "name": "stdout",
     "output_type": "stream",
     "text": [
      "Hello Python\n"
     ]
    }
   ],
   "source": [
    "print(\"Hello Python\")"
   ]
  },
  {
   "cell_type": "markdown",
   "id": "cf08716b-5f9f-44fc-a3c2-efe21496dc43",
   "metadata": {},
   "source": [
    "2. Write a Python program to do arithmetical operations addition and division.?"
   ]
  },
  {
   "cell_type": "code",
   "execution_count": 3,
   "id": "a10c28e3-86d7-4060-b654-cc0ee2e05575",
   "metadata": {},
   "outputs": [],
   "source": [
    "def Arithmatic_operation(a,b):\n",
    "    Req=input(\"Enter which operation you want to do, Addition(+) or Substraction(-)\")\n",
    "    \n",
    "    if Req == \"+\":\n",
    "        print(a+b)\n",
    "        \n",
    "    else:\n",
    "        print(a-b)"
   ]
  },
  {
   "cell_type": "code",
   "execution_count": 5,
   "id": "6ff6a3a8-a5e8-4a27-afb3-56ad203853f7",
   "metadata": {},
   "outputs": [
    {
     "name": "stdin",
     "output_type": "stream",
     "text": [
      "Enter which operation you want to do, Addition(+) or Substraction(-) -\n"
     ]
    },
    {
     "name": "stdout",
     "output_type": "stream",
     "text": [
      "-2\n"
     ]
    }
   ],
   "source": [
    "Arithmatic_operation(3,5)"
   ]
  },
  {
   "cell_type": "markdown",
   "id": "e212e548-9e86-4a25-aa79-af4aaafe6df1",
   "metadata": {},
   "source": [
    "3. Write a Python program to find the area of a triangle?"
   ]
  },
  {
   "cell_type": "code",
   "execution_count": 8,
   "id": "d250f221-6d54-4888-82b8-089cc5bbff25",
   "metadata": {},
   "outputs": [],
   "source": [
    "def Area_of_traingle():\n",
    "    b=int(input(\"Enter base of traingle: \"))\n",
    "    h=int(input(\"Enter height of traingle: \"))\n",
    "    print(\"Area of traingle is \", ((b*h)/2)) "
   ]
  },
  {
   "cell_type": "code",
   "execution_count": 9,
   "id": "c60d20e3-2142-4a4e-9aca-417a8ec90cf8",
   "metadata": {},
   "outputs": [
    {
     "name": "stdin",
     "output_type": "stream",
     "text": [
      "Enter base of traingle:  25\n",
      "Enter height of traingle:  36\n"
     ]
    },
    {
     "name": "stdout",
     "output_type": "stream",
     "text": [
      "Area of traingle is  450.0\n"
     ]
    }
   ],
   "source": [
    "Area_of_traingle()"
   ]
  },
  {
   "cell_type": "markdown",
   "id": "dd7090b7-26cc-4b17-885f-c3bbdf24224a",
   "metadata": {},
   "source": [
    "4. Write a Python program to swap two variables?"
   ]
  },
  {
   "cell_type": "code",
   "execution_count": 10,
   "id": "19e15068-826f-4729-badd-07fb8900b801",
   "metadata": {},
   "outputs": [
    {
     "name": "stdout",
     "output_type": "stream",
     "text": [
      "Value of x after swapping is  45\n",
      "Value of y after swapping is  10\n"
     ]
    }
   ],
   "source": [
    "x = 10\n",
    "y = 45\n",
    "\n",
    "b=x\n",
    "x=y\n",
    "y=b\n",
    "\n",
    "print(\"Value of x after swapping is \", x)\n",
    "print(\"Value of y after swapping is \", y)"
   ]
  },
  {
   "cell_type": "markdown",
   "id": "0e5e4552-68ce-4840-a23f-6b8211469f80",
   "metadata": {},
   "source": [
    "5. Write a Python program to generate a random number?"
   ]
  },
  {
   "cell_type": "code",
   "execution_count": 27,
   "id": "4551f3ea-3e74-4366-8878-85f53227edf1",
   "metadata": {},
   "outputs": [
    {
     "name": "stdout",
     "output_type": "stream",
     "text": [
      "0.597546970104111\n"
     ]
    }
   ],
   "source": [
    "import random\n",
    "n=random.random()\n",
    "print(n)"
   ]
  }
 ],
 "metadata": {
  "kernelspec": {
   "display_name": "Python 3 (ipykernel)",
   "language": "python",
   "name": "python3"
  },
  "language_info": {
   "codemirror_mode": {
    "name": "ipython",
    "version": 3
   },
   "file_extension": ".py",
   "mimetype": "text/x-python",
   "name": "python",
   "nbconvert_exporter": "python",
   "pygments_lexer": "ipython3",
   "version": "3.10.6"
  }
 },
 "nbformat": 4,
 "nbformat_minor": 5
}
